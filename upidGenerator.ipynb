{
 "cells": [
  {
   "cell_type": "code",
   "execution_count": 3,
   "id": "4201f5cb",
   "metadata": {},
   "outputs": [
    {
     "name": "stdout",
     "output_type": "stream",
     "text": [
      "@idbi @okhdfc @okybl @okaxl @kbl @oksbi @okicici\n"
     ]
    }
   ],
   "source": [
    "import random\n",
    "\n",
    "def generate_random_phrase(words, num_words=3):\n",
    "    \"\"\"\n",
    "    Generate a random phrase by selecting 'num_words' random words from the given list of words.\n",
    "    \n",
    "    Args:\n",
    "    words (list): List of words to choose from.\n",
    "    num_words (int): Number of words to include in the random phrase.\n",
    "\n",
    "    Returns:\n",
    "    str: Randomly generated phrase.\n",
    "    \"\"\"\n",
    "    if num_words < 1:\n",
    "        return \"Invalid number of words\"\n",
    "\n",
    "    # Ensure the number of words does not exceed the length of the word list\n",
    "    num_words = min(num_words, len(words))\n",
    "\n",
    "    # Randomly select 'num_words' words from the list\n",
    "    selected_words = random.sample(words, num_words)\n",
    "\n",
    "    # Join the selected words to create the random phrase\n",
    "    phrase = ' '.join(selected_words)\n",
    "\n",
    "    return phrase\n",
    "\n",
    "# Example usage with a list of words\n",
    "word_list = [\"@oksbi\", \"@okicici\", \"@okhdfc\", \"@okaxl\", \"@okybl\", \"@kbl\", \"@idbi\"]\n",
    "random_phrase = generate_random_phrase(word_list, num_words=10)\n",
    "print(random_phrase)\n"
   ]
  },
  {
   "cell_type": "code",
   "execution_count": 9,
   "id": "35ad1e30",
   "metadata": {},
   "outputs": [
    {
     "ename": "NameError",
     "evalue": "name 'csv' is not defined",
     "output_type": "error",
     "traceback": [
      "\u001b[1;31m---------------------------------------------------------------------------\u001b[0m",
      "\u001b[1;31mNameError\u001b[0m                                 Traceback (most recent call last)",
      "Cell \u001b[1;32mIn[9], line 24\u001b[0m\n\u001b[0;32m     22\u001b[0m \u001b[38;5;66;03m# Write the random phrases to the CSV file\u001b[39;00m\n\u001b[0;32m     23\u001b[0m \u001b[38;5;28;01mwith\u001b[39;00m \u001b[38;5;28mopen\u001b[39m(csv_file, \u001b[38;5;124m'\u001b[39m\u001b[38;5;124mw\u001b[39m\u001b[38;5;124m'\u001b[39m, newline\u001b[38;5;241m=\u001b[39m\u001b[38;5;124m'\u001b[39m\u001b[38;5;124m'\u001b[39m) \u001b[38;5;28;01mas\u001b[39;00m file:\n\u001b[1;32m---> 24\u001b[0m     writer \u001b[38;5;241m=\u001b[39m csv\u001b[38;5;241m.\u001b[39mwriter(\u001b[38;5;124m'\u001b[39m\u001b[38;5;124mrandom_phrases\u001b[39m\u001b[38;5;124m'\u001b[39m)\n\u001b[0;32m     25\u001b[0m     writer\u001b[38;5;241m.\u001b[39mwriterow([\u001b[38;5;124m'\u001b[39m\u001b[38;5;124mPhrases\u001b[39m\u001b[38;5;124m'\u001b[39m])  \u001b[38;5;66;03m# Write a header row\u001b[39;00m\n\u001b[0;32m     26\u001b[0m     \u001b[38;5;28;01mfor\u001b[39;00m phrase \u001b[38;5;129;01min\u001b[39;00m random_phrases:\n",
      "\u001b[1;31mNameError\u001b[0m: name 'csv' is not defined"
     ]
    }
   ],
   "source": [
    "import random\n",
    "\n",
    "# Define lists of words\n",
    "first_words = ['rahul', 'rachelGreen', 'rjk', 'vdty', 'rohnr', 'happysng', 'sunnysng', 'skylarShr']\n",
    "second_words = [\"@oksbi\", \"@okicici\", \"@okhdfc\", \"@okaxl\", \"@okybl\", \"@kbl\", \"@idbi\"]\n",
    "\n",
    "def generate_random_phrase():\n",
    "    # Randomly select one word from each list\n",
    "    first_word = random.choice(first_words)\n",
    "    second_word = random.choice(second_words)\n",
    "    \n",
    "    # Combine the two words to create a phrase\n",
    "    phrase = f'{first_word} {second_word}'\n",
    "    \n",
    "    return phrase\n",
    "# Generate a list of 2000 random phrases\n",
    "random_phrases = [generate_random_phrase() for _ in range(2000)]\n",
    "\n",
    "# Define the name of the CSV file\n",
    "csv_file = 'random_phrases.csv'\n",
    "\n",
    "# Write the random phrases to the CSV file\n",
    "with open(csv_file, 'w', newline='') as file:\n",
    "    writer = csv.writer('random_phrases')\n",
    "    writer.writerow(['Phrases'])  # Write a header row\n",
    "    for phrase in random_phrases:\n",
    "        writer.writerow([phrase])\n",
    "\n",
    "print(f'Random phrases have been saved to {csv_file}')"
   ]
  },
  {
   "cell_type": "code",
   "execution_count": 10,
   "id": "4e46ba8b",
   "metadata": {},
   "outputs": [],
   "source": [
    "import csv\n"
   ]
  },
  {
   "cell_type": "code",
   "execution_count": 14,
   "id": "794b6f6e",
   "metadata": {},
   "outputs": [
    {
     "name": "stdout",
     "output_type": "stream",
     "text": [
      "Random phrases have been saved to random_phrases.csv\n"
     ]
    }
   ],
   "source": [
    "import random\n",
    "import csv  # Import the 'csv' module\n",
    "\n",
    "# Define lists of words\n",
    "first_words = ['Aarav Kumar', 'Aarohi Shah', 'Aaryan Jain', 'Aashvi Patel', 'Abhinav Gupta', 'Advait Singh', 'Advika Mehta',\n",
    "    'Ahaan Sharma', 'Aisha Choudhury', 'Akshay Verma', 'Amaira Singh', 'Amit Joshi', 'Amrita Thakur', 'Ananya Bhat',\n",
    "    'Anaya Mishra', 'Anika Yadav', 'Ankit Sharma', 'Anvi Kapoor', 'Arnav Singh', 'Arya Tiwari', 'Aryan Gupta',\n",
    "    'Avani Patel', 'Avyaan Bansal', 'Ayush Kumar', 'Bhavya Jain', 'Chaitanya Shah', 'Dhruv Mehta', 'Disha Khanna',\n",
    "    'Divya Agarwal', 'Ishan Sharma', 'Ishani Desai', 'Ishika Reddy', 'Ishita Chauhan', 'Kabir Kumar', 'Kaira Kapoor',\n",
    "    'Krisha Patel', 'Kritika Singh', 'Mira Choudhury', 'Mohit Jain', 'Myra Sahu', 'Navya Verma', 'Neha Thakur',\n",
    "    'Pranav Gupta', 'Prisha Sharma', 'Rachit Verma', 'Rahul Kumar', 'Rhea Bhat', 'Ria Tiwari', 'Rishaan Sharma',\n",
    "    'Ritika Kapoor', 'Riya Yadav', 'Ruhi Mehra', 'Ruhan Bansal', 'Rushil Reddy', 'Saanvi Mehta', 'Samar Verma',\n",
    "    'Sanya Joshi', 'Sarthak Gupta', 'Shanaya Patel', 'Shivansh Kumar', 'Shreya Khanna', 'Siya Shah', 'Sneha Thakur',\n",
    "    'Soham Kapoor', 'Suhani Yadav', 'Swara Singh', 'Tara Choudhury', 'Trisha Tiwari', 'Vanya Agarwal', 'Vihaan Sharma',\n",
    "    'Vivaan Mehta', 'Yash Joshi', 'Yug Kapoor', 'Zara Thakur', 'Zoya Singh','rahul', 'rachelGreen', 'rjk', 'vdty', 'rohnr', 'happysng', 'sunnysng', 'skylarShr']\n",
    "second_words = [\"@oksbi\", \"@okicici\", \"@okhdfc\", \"@okaxl\", \"@okybl\", \"@kbl\", \"@idbi\"]\n",
    "\n",
    "first_words = [name.replace(\" \", \"\") for name in first_words]\n",
    "\n",
    "\n",
    "def generate_random_phrase():\n",
    "    # Randomly select one word from each list\n",
    "    first_word = random.choice(first_words)\n",
    "    second_word = random.choice(second_words)\n",
    "    \n",
    "    # Combine the two words to create a phrase\n",
    "    phrase = f'{first_word} {second_word}'\n",
    "    \n",
    "    return phrase\n",
    "\n",
    "# Generate a list of 2000 random phrases\n",
    "random_phrases = [generate_random_phrase() for _ in range(5574)]\n",
    "\n",
    "# Define the name of the CSV file\n",
    "csv_file = 'random_phrases.csv'\n",
    "\n",
    "# Write the random phrases to the CSV file\n",
    "with open(csv_file, 'w', newline='') as file:\n",
    "    writer = csv.writer(file)\n",
    "    writer.writerow(['Phrases'])  # Write a header row\n",
    "    for phrase in random_phrases:\n",
    "        writer.writerow([phrase])\n",
    "\n",
    "print(f'Random phrases have been saved to {csv_file}')\n"
   ]
  },
  {
   "cell_type": "code",
   "execution_count": null,
   "id": "3bac3beb",
   "metadata": {},
   "outputs": [],
   "source": []
  }
 ],
 "metadata": {
  "kernelspec": {
   "display_name": "Python 3 (ipykernel)",
   "language": "python",
   "name": "python3"
  },
  "language_info": {
   "codemirror_mode": {
    "name": "ipython",
    "version": 3
   },
   "file_extension": ".py",
   "mimetype": "text/x-python",
   "name": "python",
   "nbconvert_exporter": "python",
   "pygments_lexer": "ipython3",
   "version": "3.11.4"
  }
 },
 "nbformat": 4,
 "nbformat_minor": 5
}
